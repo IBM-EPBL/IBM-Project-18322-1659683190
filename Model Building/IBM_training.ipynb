{
  "nbformat": 4,
  "nbformat_minor": 0,
  "metadata": {
    "colab": {
      "provenance": []
    },
    "kernelspec": {
      "name": "python3",
      "display_name": "Python 3"
    },
    "language_info": {
      "name": "python"
    }
  },
  "cells": [
    {
      "cell_type": "code",
      "execution_count": null,
      "metadata": {
        "id": "45LChVeprbxu"
      },
      "outputs": [],
      "source": [
        "import os, types\n",
        "import pandas as pd\n",
        "from botocore.client import Config\n",
        "import ibm_boto3\n",
        "\n",
        "def __iter__(self): return 0\n",
        "\n",
        "# @hidden_cell\n",
        "# The following code accesses a file in your IBM Cloud Object Storage. It includes your credentials.\n",
        "# You might want to remove those credentials before you share the notebook.\n",
        "client_89ce318e65ae42c192f9669482e0af46 = ibm_boto3.client(service_name='s3',\n",
        "    ibm_api_key_id='kBmUqFD96f-KSCSalHJjKoBRJL4YKZJCQfz5THLiWVyN',\n",
        "    ibm_auth_endpoint=\"https://iam.cloud.ibm.com/oidc/token\",\n",
        "    config=Config(signature_version='oauth'),\n",
        "    endpoint_url='https://s3.private.us.cloud-object-storage.appdomain.cloud')\n",
        "\n",
        "streaming_body_1 = client_89ce318e65ae42c192f9669482e0af46.get_object(Bucket='cnnecgsheshi-donotdelete-pr-vkkaxnfol82fq7', Key='data.zip')['Body']\n",
        "\n",
        "# Your data file was loaded into a botocore.response.StreamingBody object.\n",
        "# Please read the documentation of ibm_boto3 and pandas to learn more about the possibilities to load the data.\n",
        "# ibm_boto3 documentation: https://ibm.github.io/ibm-cos-sdk-python/\n",
        "# pandas documentation: http://pandas.pydata.org/"
      ]
    },
    {
      "cell_type": "code",
      "source": [
        "from io import BytesIO\n",
        "import zipfile\n",
        "unzip=zipfile.ZipFile(BytesIO(streaming_body_1.read()),'r')\n",
        "file_paths=unzip.namelist()\n",
        "for path in file_paths:\n",
        "    unzip.extract(path)"
      ],
      "metadata": {
        "id": "VnmRsw7etTSE"
      },
      "execution_count": null,
      "outputs": []
    },
    {
      "cell_type": "markdown",
      "source": [
        "IMAGE PROCESSING"
      ],
      "metadata": {
        "id": "OLFBCfdSteEJ"
      }
    },
    {
      "cell_type": "code",
      "source": [
        "from tensorflow.keras.models import Sequential\n",
        "from tensorflow.keras.layers import Dense\n",
        "from tensorflow.keras.layers import Convolution2D\n",
        "from tensorflow.keras.layers import MaxPooling2D\n",
        "from tensorflow.keras.layers import Flatten\n",
        "from tensorflow.keras.preprocessing.image import ImageDataGenerator\n",
        "train_datagen = ImageDataGenerator(rescale = 1./255,shear_range = 0.2,zoom_range = 0.2,horizontal_flip = True)\n",
        "test_datagen = ImageDataGenerator(rescale = 1./255)"
      ],
      "metadata": {
        "id": "0pkoZqCntnoI"
      },
      "execution_count": 1,
      "outputs": []
    },
    {
      "cell_type": "code",
      "source": [
        "pwd"
      ],
      "metadata": {
        "colab": {
          "base_uri": "https://localhost:8080/",
          "height": 36
        },
        "id": "sVFqoPINuIli",
        "outputId": "94ee3abd-8257-40b0-a819-ca7a9ea2f3b8"
      },
      "execution_count": 9,
      "outputs": [
        {
          "output_type": "execute_result",
          "data": {
            "text/plain": [
              "'/content'"
            ],
            "application/vnd.google.colaboratory.intrinsic+json": {
              "type": "string"
            }
          },
          "metadata": {},
          "execution_count": 9
        }
      ]
    },
    {
      "cell_type": "code",
      "source": [
        "x_train = train_datagen.flow_from_directory(directory=r'/content',target_size = (64,64),batch_size = 32,class_mode = \"categorical\")\n",
        "x_test = test_datagen.flow_from_directory(directory=r'/content',target_size = (64,64),batch_size = 32,class_mode = \"categorical\")\n",
        "Found 153 images belonging to 6 classes.\n",
        "Found 682 images belonging to 6 classes.\n",
        "# @hidden_cell\n",
        "# The following code contains the credentials for a file in your IBM Cloud Object Storage.\n",
        "# You might want to remove those credentials before you share your notebook.\n",
        "credentials_2 = {\n",
        "    'IAM_SERVICE_ID': 'iam-ServiceId-96272458-2b64-43ad-b572-4c0b29cb80fd',\n",
        "    'IBM_API_KEY_ID': 'kBmUqFD96f-KSCSalHJjKoBRJL4YKZJCQfz5THLiWVyN',\n",
        "    'ENDPOINT': 'https://s3.private.us.cloud-object-storage.appdomain.cloud',\n",
        "    'IBM_AUTH_ENDPOINT': 'https://iam.cloud.ibm.com/oidc/token',\n",
        "    'BUCKET': 'cnnecgsheshi-donotdelete-pr-vkkaxnfol82fq7',\n",
        "    'FILE': 'data.zip'\n",
        "}# @hidden_cell\n",
        "# The following code contains the credentials for a file in your IBM Cloud Object Storage.\n",
        "# You might want to remove those credentials before you share your notebook.\n",
        "credentials_1 = {\n",
        "    'IAM_SERVICE_ID': 'iam-ServiceId-96272458-2b64-43ad-b572-4c0b29cb80fd',\n",
        "    'IBM_API_KEY_ID': 'kBmUqFD96f-KSCSalHJjKoBRJL4YKZJCQfz5THLiWVyN',\n",
        "    'ENDPOINT': 'https://s3.private.us.cloud-object-storage.appdomain.cloud',\n",
        "    'IBM_AUTH_ENDPOINT': 'https://iam.cloud.ibm.com/oidc/token',\n",
        "    'BUCKET': 'cnnecgsheshi-donotdelete-pr-vkkaxnfol82fq7',\n",
        "    'FILE': 'Unknown_image.png'\n",
        "}"
      ],
      "metadata": {
        "colab": {
          "base_uri": "https://localhost:8080/",
          "height": 135
        },
        "id": "Xz0o2eguuZEk",
        "outputId": "0201d59c-4ead-49d2-d4c5-9b2f67f0b197"
      },
      "execution_count": 8,
      "outputs": [
        {
          "output_type": "error",
          "ename": "SyntaxError",
          "evalue": "ignored",
          "traceback": [
            "\u001b[0;36m  File \u001b[0;32m\"<ipython-input-8-2ecd91583b93>\"\u001b[0;36m, line \u001b[0;32m3\u001b[0m\n\u001b[0;31m    Found 153 images belonging to 6 classes.\u001b[0m\n\u001b[0m            ^\u001b[0m\n\u001b[0;31mSyntaxError\u001b[0m\u001b[0;31m:\u001b[0m invalid syntax\n"
          ]
        }
      ]
    },
    {
      "cell_type": "markdown",
      "source": [
        "Model Building"
      ],
      "metadata": {
        "id": "f5BkcOzMuvnw"
      }
    },
    {
      "cell_type": "markdown",
      "source": [
        "Importing Libraries"
      ],
      "metadata": {
        "id": "ygXfVMyIu4Nb"
      }
    },
    {
      "cell_type": "code",
      "source": [
        "import numpy as np\n",
        "import tensorflow\n",
        "from tensorflow.keras.models import Sequential\n",
        "from tensorflow.keras import layers\n",
        "\n",
        "from tensorflow.keras.layers import Dense,Flatten\n",
        "\n",
        "from tensorflow.keras.layers import Conv2D,MaxPooling2D\n",
        "import tensorflow.keras"
      ],
      "metadata": {
        "id": "YUEE0nE2u5a-"
      },
      "execution_count": null,
      "outputs": []
    },
    {
      "cell_type": "code",
      "source": [
        "model= Sequential()"
      ],
      "metadata": {
        "id": "3LgEyMFrvBQi"
      },
      "execution_count": null,
      "outputs": []
    },
    {
      "cell_type": "code",
      "source": [
        "#adding model layer\n",
        "model.add(Conv2D(32,(3,3),input_shape=(64,64,3),activation='relu'))\n",
        "model.add(MaxPooling2D(pool_size=(2,2)))\n",
        "model.add(Conv2D(32,(3,3),activation='relu'))\n",
        "model.add(MaxPooling2D(pool_size=(2,2)))\n",
        "model.add(Flatten())\n",
        "model.add(Dense(units = 128,kernel_initializer = \"random_uniform\",activation = \"relu\"))\n",
        "model.add(Dense(units = 128,kernel_initializer = \"random_uniform\",activation = \"relu\"))\n",
        "model.add(Dense(units = 128,kernel_initializer = \"random_uniform\",activation = \"relu\"))\n",
        "model.add(Dense(units = 128,kernel_initializer = \"random_uniform\",activation = \"relu\"))\n",
        "model.add(Dense(units = 128,kernel_initializer = \"random_uniform\",activation = \"relu\"))\n",
        "model.add(Dense(units = 6,kernel_initializer = \"random_uniform\",activation = \"softmax\"))\n",
        "model.summary()"
      ],
      "metadata": {
        "id": "NQkgtq2wvGfB"
      },
      "execution_count": null,
      "outputs": []
    },
    {
      "cell_type": "markdown",
      "source": [
        "Model: \"sequential_1\"\n",
        "_________________________________________________________________\n",
        " Layer (type)                Output Shape              Param #   \n",
        "=================================================================\n",
        " conv2d_2 (Conv2D)           (None, 62, 62, 32)        896       \n",
        "                                                                 \n",
        " max_pooling2d_2 (MaxPooling  (None, 31, 31, 32)       0         \n",
        " 2D)                                                             \n",
        "                                                                 \n",
        " conv2d_3 (Conv2D)           (None, 29, 29, 32)        9248      \n",
        "                                                                 \n",
        " max_pooling2d_3 (MaxPooling  (None, 14, 14, 32)       0         \n",
        " 2D)                                                             \n",
        "                                                                 \n",
        " flatten_1 (Flatten)         (None, 6272)              0         \n",
        "                                                                 \n",
        " dense_6 (Dense)             (None, 128)               802944    \n",
        "                                                                 \n",
        " dense_7 (Dense)             (None, 128)               16512     \n",
        "                                                                 \n",
        " dense_8 (Dense)             (None, 128)               16512     \n",
        "                                                                 \n",
        " dense_9 (Dense)             (None, 128)               16512     \n",
        "                                                                 \n",
        " dense_10 (Dense)            (None, 128)               16512     \n",
        "                                                                 \n",
        " dense_11 (Dense)            (None, 6)                 774       \n",
        "                                                                 \n",
        "=================================================================\n",
        "Total params: 879,910\n",
        "Trainable params: 879,910\n",
        "Non-trainable params: 0"
      ],
      "metadata": {
        "id": "mpKJ3xxYvWon"
      }
    },
    {
      "cell_type": "code",
      "source": [
        "model.compile(optimizer='adam',loss='categorical_crossentropy',metrics=['accuracy'])\n",
        "model.fit_generator(generator=x_train,steps_per_epoch = len(x_train), epochs=10, validation_data=x_test,validation_steps = len(x_test))\n",
        "/tmp/wsuser/ipykernel_164/53529210.py:1: UserWarning: `Model.fit_generator` is deprecated and will be removed in a future version. Please use `Model.fit`, which supports generators.\n",
        "  model.fit_generator(generator=x_train,steps_per_epoch = len(x_train), epochs=10, validation_data=x_test,validation_steps = len(x_test))\n",
        "Epoch 1/10\n",
        "480/480 [==============================] - 58s 120ms/step - loss: 1.3806 - accuracy: 0.4910 - val_loss: 1.4342 - val_accuracy: 0.4608\n",
        "Epoch 2/10\n",
        "480/480 [==============================] - 57s 119ms/step - loss: 0.7578 - accuracy: 0.6962 - val_loss: 0.7609 - val_accuracy: 0.7360\n",
        "Epoch 3/10\n",
        "480/480 [==============================] - 57s 118ms/step - loss: 0.2102 - accuracy: 0.9350 - val_loss: 0.4808 - val_accuracy: 0.8347\n",
        "Epoch 5/10\n",
        "480/480 [==============================] - 57s 119ms/step - loss: 0.1614 - accuracy: 0.9497 - val_loss: 0.4273 - val_accuracy: 0.8503\n",
        "Epoch 6/10\n",
        "480/480 [==============================] - 58s 121ms/step - loss: 0.1302 - accuracy: 0.9579 - val_loss: 0.4653 - val_accuracy: 0.8567\n",
        "Epoch 7/10\n",
        "480/480 [==============================] - 58s 121ms/step - loss: 0.1165 - accuracy: 0.9625 - val_loss: 0.4795 - val_accuracy: 0.8576\n",
        "Epoch 8/10\n",
        "480/480 [==============================] - 58s 121ms/step - loss: 0.1155 - accuracy: 0.9626 - val_loss: 0.5561 - val_accuracy: 0.8532\n",
        "Epoch 9/10\n",
        "480/480 [==============================] - 58s 120ms/step - loss: 0.0951 - accuracy: 0.9698 - val_loss: 0.6778 - val_accuracy: 0.8500\n",
        "Epoch 10/10\n",
        "480/480 [==============================] - 58s 120ms/step - loss: 0.0855 - accuracy: 0.9720 - val_loss: 0.7102 - val_accuracy: 0.8438"
      ],
      "metadata": {
        "id": "KV7keMD3vcC-"
      },
      "execution_count": null,
      "outputs": []
    },
    {
      "cell_type": "markdown",
      "source": [
        "Saving The Model"
      ],
      "metadata": {
        "id": "V5hkIggNvgCq"
      }
    },
    {
      "cell_type": "code",
      "source": [
        "model.save('ECG_IBM.h5')\n",
        "!tar -zcvf ECG-arrhythmia-classification-model_new.tgz ECG_IBM.h5\n",
        "ECG_IBM.h5\n",
        "ls -1\n",
        "data/\n",
        "ECG-arrhythmia-classification-model_new.tgz\n",
        "ECG-classification.tgz\n",
        "ECG_IBM.h5\n",
        "!pip install watson-machine-learning-client --upgrade"
      ],
      "metadata": {
        "id": "iajRmTOmvhfp"
      },
      "execution_count": null,
      "outputs": []
    },
    {
      "cell_type": "markdown",
      "source": [
        "Requirement already satisfied: watson-machine-learning-client in /opt/conda/envs/Python-3.9/lib/python3.9/site-packages (1.0.391)\n",
        "Requirement already satisfied: requests in /opt/conda/envs/Python-3.9/lib/python3.9/site-packages (from watson-machine-learning-client) (2.26.0)\n",
        "Requirement already satisfied: lomond in /opt/conda/envs/Python-3.9/lib/python3.9/site-packages (from watson-machine-learning-client) (0.3.3)\n",
        "Requirement already satisfied: urllib3 in /opt/conda/envs/Python-3.9/lib/python3.9/site-packages (from watson-machine-learning-client) (1.26.7)\n",
        "Requirement already satisfied: boto3 in /opt/conda/envs/Python-3.9/lib/python3.9/site-packages (from watson-machine-learning-client) (1.18.21)\n",
        "Requirement already satisfied: certifi in /opt/conda/envs/Python-3.9/lib/python3.9/site-packages (from watson-machine-learning-client) (2022.5.18.1)\n",
        "Requirement already satisfied: pandas in /opt/conda/envs/Python-3.9/lib/python3.9/site-packages (from watson-machine-learning-client) (1.3.4)\n",
        "Requirement already satisfied: tqdm in /opt/conda/envs/Python-3.9/lib/python3.9/site-packages (from watson-machine-learning-client) (4.62.3)\n",
        "Requirement already satisfied: tabulate in /opt/conda/envs/Python-3.9/lib/python3.9/site-packages (from watson-machine-learning-client) (0.8.9)\n",
        "Requirement already satisfied: ibm-cos-sdk in /opt/conda/envs/Python-3.9/lib/python3.9/site-packages (from watson-machine-learning-client) (2.11.0)\n",
        "Requirement already satisfied: s3transfer<0.6.0,>=0.5.0 in /opt/conda/envs/Python-3.9/lib/python3.9/site-packages (from boto3->watson-machine-learning-client) (0.5.0)\n",
        "Requirement already satisfied: botocore<1.22.0,>=1.21.21 in /opt/conda/envs/Python-3.9/lib/python3.9/site-packages (from boto3->watson-machine-learning-client) (1.21.41)\n",
        "Requirement already satisfied: jmespath<1.0.0,>=0.7.1 in /opt/conda/envs/Python-3.9/lib/python3.9/site-packages (from boto3->watson-machine-learning-client) (0.10.0)\n",
        "Requirement already satisfied: python-dateutil<3.0.0,>=2.1 in /opt/conda/envs/Python-3.9/lib/python3.9/site-packages (from botocore<1.22.0,>=1.21.21->boto3->watson-machine-learning-client) (2.8.2)\n",
        "Requirement already satisfied: six>=1.5 in /opt/conda/envs/Python-3.9/lib/python3.9/site-packages (from python-dateutil<3.0.0,>=2.1->botocore<1.22.0,>=1.21.21->boto3->watson-machine-learning-client) (1.15.0)\n",
        "Requirement already satisfied: ibm-cos-sdk-core==2.11.0 in /opt/conda/envs/Python-3.9/lib/python3.9/site-packages (from ibm-cos-sdk->watson-machine-learning-client) (2.11.0)\n",
        "Requirement already satisfied: ibm-cos-sdk-s3transfer==2.11.0 in /opt/conda/envs/Python-3.9/lib/python3.9/site-packages (from ibm-cos-sdk->watson-machine-learning-client) (2.11.0)\n",
        "Requirement already satisfied: charset-normalizer~=2.0.0 in /opt/conda/envs/Python-3.9/lib/python3.9/site-packages (from requests->watson-machine-learning-client) (2.0.4)\n",
        "Requirement already satisfied: idna<4,>=2.5 in /opt/conda/envs/Python-3.9/lib/python3.9/site-packages (from requests->watson-machine-learning-client) (3.3)\n",
        "Requirement already satisfied: pytz>=2017.3 in /opt/conda/envs/Python-3.9/lib/python3.9/site-packages (from pandas->watson-machine-learning-client) (2021.3)\n",
        "Requirement already satisfied: numpy>=1.17.3 in /opt/conda/envs/Python-3.9/lib/python3.9/site-packages (from pandas->watson-machine-learning-client) (1.20.3)"
      ],
      "metadata": {
        "id": "7C4YThHxv5ca"
      }
    },
    {
      "cell_type": "code",
      "source": [
        "from ibm_watson_machine_learning import APIClient\n",
        "wml_credentials={\n",
        "    \"url\":\"https://us-south.ml.cloud.ibm.com\",\n",
        "    \"apikey\":\"EfnNlIAqu-_QXB0QsQqQQlnwkes_B9ssggk8ipjZQH67\"\n",
        "}\n",
        "client=APIClient(wml_credentials)\n",
        "client.spaces.list()"
      ],
      "metadata": {
        "id": "ZSU-tJWSv_JZ"
      },
      "execution_count": null,
      "outputs": []
    },
    {
      "cell_type": "markdown",
      "source": [
        "Note: 'limit' is not provided. Only first 50 records will be displayed if the number of records exceed 50\n",
        "------------------------------------  ------------------  ------------------------\n",
        "ID                                    NAME                CREATED\n",
        "fc75767f-659b-4dc3-a238-cbb53d201cf2  CNN_ECG_IBM_SHESHI  2022-07-05T10:52:44.075Z\n",
        "------------------------------------  ------------------  ------------------------"
      ],
      "metadata": {
        "id": "PQZ0G9eKwEO9"
      }
    },
    {
      "cell_type": "code",
      "source": [
        "space_uid=\"fc75767f-659b-4dc3-a238-cbb53d201cf2\"\n",
        "client.set.default_space(space_uid)"
      ],
      "metadata": {
        "id": "X8pVz8sTwI9w"
      },
      "execution_count": null,
      "outputs": []
    },
    {
      "cell_type": "markdown",
      "source": [
        "'SUCCESS'"
      ],
      "metadata": {
        "id": "1YRn6QqzwMru"
      }
    },
    {
      "cell_type": "code",
      "source": [
        "client.software_specifications.list()\n",
        "-----------------------------  ------------------------------------  ----\n",
        "NAME                           ASSET_ID                              TYPE\n",
        "default_py3.6                  0062b8c9-8b7d-44a0-a9b9-46c416adcbd9  base\n",
        "kernel-spark3.2-scala2.12      020d69ce-7ac1-5e68-ac1a-31189867356a  base\n",
        "pytorch-onnx_1.3-py3.7-edt     069ea134-3346-5748-b513-49120e15d288  base\n",
        "scikit-learn_0.20-py3.6        09c5a1d0-9c1e-4473-a344-eb7b665ff687  base\n",
        "spark-mllib_3.0-scala_2.12     09f4cff0-90a7-5899-b9ed-1ef348aebdee  base\n",
        "pytorch-onnx_rt22.1-py3.9      0b848dd4-e681-5599-be41-b5f6fccc6471  base\n",
        "ai-function_0.1-py3.6          0cdb0f1e-5376-4f4d-92dd-da3b69aa9bda  base\n",
        "shiny-r3.6                     0e6e79df-875e-4f24-8ae9-62dcc2148306  base\n",
        "tensorflow_2.4-py3.7-horovod   1092590a-307d-563d-9b62-4eb7d64b3f22  base\n",
        "pytorch_1.1-py3.6              10ac12d6-6b30-4ccd-8392-3e922c096a92  base\n",
        "tensorflow_1.15-py3.6-ddl      111e41b3-de2d-5422-a4d6-bf776828c4b7  base\n",
        "runtime-22.1-py3.9             12b83a17-24d8-5082-900f-0ab31fbfd3cb  base\n",
        "scikit-learn_0.22-py3.6        154010fa-5b3b-4ac1-82af-4d5ee5abbc85  base\n",
        "default_r3.6                   1b70aec3-ab34-4b87-8aa0-a4a3c8296a36  base\n",
        "pytorch-onnx_1.3-py3.6         1bc6029a-cc97-56da-b8e0-39c3880dbbe7  base\n",
        "pytorch-onnx_rt22.1-py3.9-edt  1d362186-7ad5-5b59-8b6c-9d0880bde37f  base\n",
        "tensorflow_2.1-py3.6           1eb25b84-d6ed-5dde-b6a5-3fbdf1665666  base\n",
        "spark-mllib_3.2                20047f72-0a98-58c7-9ff5-a77b012eb8f5  base\n",
        "tensorflow_2.4-py3.8-horovod   217c16f6-178f-56bf-824a-b19f20564c49  base\n",
        "runtime-22.1-py3.9-cuda        26215f05-08c3-5a41-a1b0-da66306ce658  base\n",
        "do_py3.8                       295addb5-9ef9-547e-9bf4-92ae3563e720  base\n",
        "autoai-ts_3.8-py3.8            2aa0c932-798f-5ae9-abd6-15e0c2402fb5  base\n",
        "tensorflow_1.15-py3.6          2b73a275-7cbf-420b-a912-eae7f436e0bc  base\n",
        "pytorch_1.2-py3.6              2c8ef57d-2687-4b7d-acce-01f94976dac1  base\n",
        "spark-mllib_2.3                2e51f700-bca0-4b0d-88dc-5c6791338875  base\n",
        "pytorch-onnx_1.1-py3.6-edt     32983cea-3f32-4400-8965-dde874a8d67e  base\n",
        "spark-mllib_3.0-py37           36507ebe-8770-55ba-ab2a-eafe787600e9  base\n",
        "spark-mllib_2.4                390d21f8-e58b-4fac-9c55-d7ceda621326  base\n",
        "xgboost_0.82-py3.6             39e31acd-5f30-41dc-ae44-60233c80306e  base\n",
        "pytorch-onnx_1.2-py3.6-edt     40589d0e-7019-4e28-8daa-fb03b6f4fe12  base\n",
        "default_r36py38                41c247d3-45f8-5a71-b065-8580229facf0  base\n",
        "autoai-ts_rt22.1-py3.9         4269d26e-07ba-5d40-8f66-2d495b0c71f7  base\n",
        "autoai-obm_3.0                 42b92e18-d9ab-567f-988a-4240ba1ed5f7  base\n",
        "pmml-3.0_4.3                   493bcb95-16f1-5bc5-bee8-81b8af80e9c7  base\n",
        "spark-mllib_2.4-r_3.6          49403dff-92e9-4c87-a3d7-a42d0021c095  base\n",
        "xgboost_0.90-py3.6             4ff8d6c2-1343-4c18-85e1-689c965304d3  base\n",
        "pytorch-onnx_1.1-py3.6         50f95b2a-bc16-43bb-bc94-b0bed208c60b  base\n",
        "autoai-ts_3.9-py3.8            52c57136-80fa-572e-8728-a5e7cbb42cde  basetensorflow_2.1-py3.6           1eb25b84-d6ed-5dde-b6a5-3fbdf1665666  base\n",
        "spark-mllib_3.2                20047f72-0a98-58c7-9ff5-a77b012eb8f5  base\n",
        "tensorflow_2.4-py3.8-horovod   217c16f6-178f-56bf-824a-b19f20564c49  base\n",
        "runtime-22.1-py3.9-cuda        26215f05-08c3-5a41-a1b0-da66306ce658  base\n",
        "do_py3.8                       295addb5-9ef9-547e-9bf4-92ae3563e720  base\n",
        "autoai-ts_3.8-py3.8            2aa0c932-798f-5ae9-abd6-15e0c2402fb5  base\n",
        "tensorflow_1.15-py3.6          2b73a275-7cbf-420b-a912-eae7f436e0bc  base\n",
        "pytorch_1.2-py3.6              2c8ef57d-2687-4b7d-acce-01f94976dac1  base\n",
        "spark-mllib_2.3                2e51f700-bca0-4b0d-88dc-5c6791338875  base\n",
        "pytorch-onnx_1.1-py3.6-edt     32983cea-3f32-4400-8965-dde874a8d67e  base\n",
        "spark-mllib_3.0-py37           36507ebe-8770-55ba-ab2a-eafe787600e9  base\n",
        "spark-mllib_2.4                390d21f8-e58b-4fac-9c55-d7ceda621326  base\n",
        "xgboost_0.82-py3.6             39e31acd-5f30-41dc-ae44-60233c80306e  base\n",
        "pytorch-onnx_1.2-py3.6-edt     40589d0e-7019-4e28-8daa-fb03b6f4fe12  base\n",
        "default_r36py38                41c247d3-45f8-5a71-b065-8580229facf0  base\n",
        "autoai-ts_rt22.1-py3.9         4269d26e-07ba-5d40-8f66-2d495b0c71f7  base\n",
        "autoai-obm_3.0                 42b92e18-d9ab-567f-988a-4240ba1ed5f7  base\n",
        "pmml-3.0_4.3                   493bcb95-16f1-5bc5-bee8-81b8af80e9c7  base\n",
        "spark-mllib_2.4-r_3.6          49403dff-92e9-4c87-a3d7-a42d0021c095  base\n",
        "xgboost_0.90-py3.6             4ff8d6c2-1343-4c18-85e1-689c965304d3  base\n",
        "pytorch-onnx_1.1-py3.6         50f95b2a-bc16-43bb-bc94-b0bed208c60b  base\n",
        "autoai-ts_3.9-py3.8            52c57136-80fa-572e-8728-a5e7cbb42cde  base\n",
        "spark-mllib_2.4-scala_2.11     55a70f99-7320-4be5-9fb9-9edb5a443af5  base\n",
        "spark-mllib_3.0                5c1b0ca2-4977-5c2e-9439-ffd44ea8ffe9  base\n",
        "autoai-obm_2.0                 5c2e37fa-80b8-5e77-840f-d912469614ee  base\n",
        "spss-modeler_18.1              5c3cad7e-507f-4b2a-a9a3-ab53a21dee8b  base\n",
        "cuda-py3.8                     5d3232bf-c86b-5df4-a2cd-7bb870a1cd4e  base\n",
        "autoai-kb_3.1-py3.7            632d4b22-10aa-5180-88f0-f52dfb6444d7  base\n",
        "pytorch-onnx_1.7-py3.8         634d3cdc-b562-5bf9-a2d4-ea90a478456b  base\n",
        "spark-mllib_2.3-r_3.6          6586b9e3-ccd6-4f92-900f-0f8cb2bd6f0c  base\n",
        "tensorflow_2.4-py3.7           65e171d7-72d1-55d9-8ebb-f813d620c9bb  base\n",
        "spss-modeler_18.2              687eddc9-028a-4117-b9dd-e57b36f1efa5  base\n",
        "pytorch-onnx_1.2-py3.6         692a6a4d-2c4d-45ff-a1ed-b167ee55469a  base\n",
        "spark-mllib_2.3-scala_2.11     7963efe5-bbec-417e-92cf-0574e21b4e8d  base\n",
        "-----------------------------  ------------------------------------  ----\n",
        "Note: Only first 50 records were displayed. To display more use 'limit' parameter."
      ],
      "metadata": {
        "id": "ztKQZZC1wZcK"
      },
      "execution_count": null,
      "outputs": []
    },
    {
      "cell_type": "code",
      "source": [
        "software_spec_uid = client.software_specifications.get_uid_by_name(\"tensorflow_rt22.1-py3.9\")\n",
        "software_spec_uid"
      ],
      "metadata": {
        "id": "J4ydI4Uowr9M"
      },
      "execution_count": null,
      "outputs": []
    },
    {
      "cell_type": "markdown",
      "source": [
        "'acd9c798-6974-5d2f-a657-ce06e986df4d'"
      ],
      "metadata": {
        "id": "dK9mPnsPwzxu"
      }
    },
    {
      "cell_type": "code",
      "source": [
        "model_details = client.repository.store_model(model='ECG-arrhythmia-classification-model_new.tgz',meta_props={\n",
        "    client.repository.ModelMetaNames.NAME:\"CNN_SUBI\",\n",
        "    client.repository.ModelMetaNames.TYPE:\"tensorflow_2.7\",\n",
        "    client.repository.ModelMetaNames.SOFTWARE_SPEC_UID:software_spec_uid})\n",
        "model_id=client.repository.get_model_uid(model_details)"
      ],
      "metadata": {
        "id": "8nBNSieHw3y6"
      },
      "execution_count": null,
      "outputs": []
    },
    {
      "cell_type": "markdown",
      "source": [
        "This method is deprecated, please use get_model_id()"
      ],
      "metadata": {
        "id": "z6KxAGHdw_DB"
      }
    },
    {
      "cell_type": "code",
      "source": [
        "model_id"
      ],
      "metadata": {
        "id": "aiLuKJ47xETc"
      },
      "execution_count": null,
      "outputs": []
    },
    {
      "cell_type": "markdown",
      "source": [
        "'70742fe8-7ac8-4855-994c-b572931ef787'"
      ],
      "metadata": {
        "id": "G98ZMfDxxMlN"
      }
    },
    {
      "cell_type": "code",
      "source": [
        "client.repository.download(model_id,'my_model.tar1.gz')"
      ],
      "metadata": {
        "id": "aMf_LBgPxTBD"
      },
      "execution_count": null,
      "outputs": []
    },
    {
      "cell_type": "markdown",
      "source": [
        "Successfully saved model content to file: 'my_model.tar1.gz'\n",
        "'/home/wsuser/work/my_model.tar1.gz'"
      ],
      "metadata": {
        "id": "RNib9sz5xW35"
      }
    },
    {
      "cell_type": "code",
      "source": [
        "streaming_body_2 = client_89ce318e65ae42c192f9669482e0af46.get_object(Bucket='cnnecgsheshi-donotdelete-pr-vkkaxnfol82fq7', Key='Unknown_image.png')['Body']\n",
        "\n",
        "# Your data file was loaded into a botocore.response.StreamingBody object.\n",
        "# Please read the documentation of ibm_boto3 and pandas to learn more about the possibilities to load the data.\n",
        "# ibm_boto3 documentation: https://ibm.github.io/ibm-cos-sdk-python/\n",
        "# pandas documentation: http://pandas.pydata.org/\n",
        "from tensorflow.keras.models import load_model\n",
        "from tensorflow.keras.preprocessing import image\n",
        "model=load_model('/home/wsuser/work/ECG_IBM.h5')\n",
        "img=image.load_img(r'/home/wsuser/work/Unknown_image.png',target_size=(64,64))\n",
        "x=image.img_to_array(img)\n",
        "x=np.expand_dims(x,axis=0)\n",
        "pred = model.predict(x)\n",
        "y_pred=np.argmax(pred)\n",
        "y_pred"
      ],
      "metadata": {
        "id": "MhLj6lu9xa73"
      },
      "execution_count": null,
      "outputs": []
    },
    {
      "cell_type": "markdown",
      "source": [
        "1"
      ],
      "metadata": {
        "id": "3gSh4-_GxeJp"
      }
    },
    {
      "cell_type": "code",
      "source": [
        "index=['left Bundle Branch block','Normal','Premature Atrial Contraction','Premature Ventricular Contraction','Right Bundle Branch Block','Ventricular Fibrillation']\n",
        "result = str(index[y_pred])\n",
        "result"
      ],
      "metadata": {
        "id": "jNhPqQsSxjPF"
      },
      "execution_count": null,
      "outputs": []
    },
    {
      "cell_type": "markdown",
      "source": [
        "'Normal'"
      ],
      "metadata": {
        "id": "o8S222RKxmmH"
      }
    }
  ]
}