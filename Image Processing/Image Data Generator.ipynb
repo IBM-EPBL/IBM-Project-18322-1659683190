{
  "nbformat": 4,
  "nbformat_minor": 0,
  "metadata": {
    "colab": {
      "provenance": []
    },
    "kernelspec": {
      "name": "python3",
      "display_name": "Python 3"
    },
    "language_info": {
      "name": "python"
    }
  },
  "cells": [
    {
      "cell_type": "markdown",
      "source": [
        "CLEANING"
      ],
      "metadata": {
        "id": "60jNZWubTvdw"
      }
    },
    {
      "cell_type": "code",
      "source": [
        "#  organizing imports \n",
        "import cv2          \n",
        "import numpy as np     \n",
        "import matplotlib.pyplot as plt\n",
        "# path to input image is specified and \n",
        "# image is loaded with imread command \n",
        "image1 = cv2.imread('test.jpg') \n",
        "  \n",
        "# cv2.cvtColor is applied over the \n",
        "# image input with applied parameters \n",
        "# to convert the image in grayscale \n",
        "img = cv2.cvtColor(image1, cv2.COLOR_BGR2GRAY) \n",
        "  \n",
        "# applying Otsu thresholding \n",
        "# as an extra flag in binary  \n",
        "# thresholding      \n",
        "ret, thresh1 = cv2.threshold(img, 120, 255, cv2.THRESH_BINARY + \n",
        "                                            cv2.THRESH_OTSU)      \n",
        "  \n",
        "# the window showing output image          \n",
        "# with the corresponding thresholding          \n",
        "# techniques applied to the input image     \n",
        "plt.imshow(thresh1,cmap=\"gray\")          "
      ],
      "metadata": {
        "id": "N1QO8LWwT03g"
      },
      "execution_count": null,
      "outputs": []
    },
    {
      "cell_type": "code",
      "source": [
        "import math\n",
        "import numpy as np\n",
        "from matplotlib import pyplot as plt\n",
        "from PIL import Image\n",
        "\n",
        "\n",
        "threshold_values = {}\n",
        "h = [1]\n",
        "\n",
        "\n",
        "def Hist(img):\n",
        "   row, col = img.shape \n",
        "   y = np.zeros(256)\n",
        "   for i in range(0,row):\n",
        "      for j in range(0,col):\n",
        "         y[img[i,j]] += 1\n",
        "   x = np.arange(0,256)\n",
        "   plt.bar(x, y, color='b', width=5, align='center', alpha=0.25)\n",
        "   plt.show()\n",
        "   return y\n",
        "\n",
        "\n",
        "def regenerate_img(img, threshold):\n",
        "    row, col = img.shape \n",
        "    y = np.zeros((row, col))\n",
        "    for i in range(0,row):\n",
        "        for j in range(0,col):\n",
        "            if img[i,j] >= threshold:\n",
        "                y[i,j] = 255\n",
        "            else:\n",
        "                y[i,j] = 0\n",
        "    return y\n",
        "def countPixel(h):\n",
        "    cnt = 0\n",
        "    for i in range(0, len(h)):\n",
        "        if h[i]>0:\n",
        "           cnt += h[i]\n",
        "    return cnt\n",
        "\n",
        "\n",
        "def wieght(s, e):\n",
        "    w = 0\n",
        "    for i in range(s, e):\n",
        "        w += h[i]\n",
        "    return w\n",
        "\n",
        "\n",
        "def mean(s, e):\n",
        "    m = 0\n",
        "    w = wieght(s, e)\n",
        "    for i in range(s, e):\n",
        "        m += h[i] * i\n",
        "\n",
        "    return m/float(w)\n",
        "\n",
        "\n",
        "def variance(s, e):\n",
        "    v = 0\n",
        "    m = mean(s, e)\n",
        "    w = wieght(s, e)\n",
        "    for i in range(s, e):\n",
        "        v += ((i - m) **2) * h[i]\n",
        "    v /= w\n",
        "    return v\n",
        "    def threshold(h):\n",
        "    cnt = countPixel(h)\n",
        "    for i in range(1, len(h)):\n",
        "        vb = variance(0, i)\n",
        "        wb = wieght(0, i) / float(cnt)\n",
        "        mb = mean(0, i)\n",
        "\n",
        "        vf = variance(i, len(h))\n",
        "        wf = wieght(i, len(h)) / float(cnt)\n",
        "        mf = mean(i, len(h))\n",
        "\n",
        "        V2w = wb * (vb)*(vb) + wf * (vf)*(vf)\n",
        "        V2b = wb * wf * (mb - mf)**2\n",
        "\n",
        "        fw = open(\"trace.txt\", \"a\")\n",
        "        fw.write('T='+ str(i) + \"\\n\")\n",
        "\n",
        "        fw.write('Wb='+ str(wb) + \"\\n\")\n",
        "        fw.write('Mb='+ str(mb) + \"\\n\")\n",
        "        fw.write('Vb='+ str(vb) + \"\\n\")\n",
        "\n",
        "        fw.write('Wf='+ str(wf) + \"\\n\")\n",
        "        fw.write('Mf='+ str(mf) + \"\\n\")\n",
        "        fw.write('Vf='+ str(vf) + \"\\n\")\n",
        "\n",
        "        fw.write('within class variance='+ str(V2w) + \"\\n\")\n",
        "        fw.write('between class variance=' + str(V2b) + \"\\n\")\n",
        "        fw.write(\"\\n\")\n",
        "\n",
        "        if not math.isnan(V2w):\n",
        "            threshold_values[i] = V2w\n",
        "def get_optimal_threshold():\n",
        "    min_V2w = min(threshold_values.values())\n",
        "    optimal_threshold = [k for k, v in threshold_values.items() if v == min_V2w]\n",
        "    print ('optimal threshold', optimal_threshold[0])\n",
        "    return optimal_threshold[0]\n",
        "\n",
        "\n",
        "image = Image.open('test.jpg').convert(\"L\")\n",
        "img = np.asarray(image)\n",
        "\n",
        "h = Hist(img)\n",
        "threshold(h)\n",
        "op_thres = get_optimal_threshold()\n",
        "\n",
        "res = regenerate_img(img, op_thres)\n",
        "plt.imshow(res,cmap=\"gray\")\n",
        "plt.savefig(\"otsu.jpg\") "
      ],
      "metadata": {
        "id": "i6BzLXaoVP8l"
      },
      "execution_count": null,
      "outputs": []
    },
    {
      "cell_type": "code",
      "source": [
        "import numpy as np\n",
        "import cv2 as cv\n",
        "from matplotlib import pyplot as plt\n",
        "#img = cv.imread('e.png')\n",
        "img=res\n",
        "img = np.full((1130,1566), 6, np.uint8)\n",
        "converted_img = cv2.cvtColor(img, cv2.COLOR_GRAY2BGR)\n",
        "dst = cv.fastNlMeansDenoisingColored(converted_img,None,10,10,7,21)"
      ],
      "metadata": {
        "id": "7bL2Ey-FV-d1"
      },
      "execution_count": null,
      "outputs": []
    },
    {
      "cell_type": "code",
      "source": [
        "import numpy as np\n",
        "import cv2 as cv\n",
        "from matplotlib import pyplot as plt\n",
        "#cap = cv.VideoCapture('vtest.avi')\n",
        "# create a list of first 5 frames\n",
        "#img = [cap.read()[1] for i in xrange(5)]\n",
        "# convert all to grayscale\n",
        "i=res\n",
        "#gray = cv.cvtColor(i, cv.COLOR_BGR2GRAY)\n",
        "# convert all to float64\n",
        "gray = np.float64(i)\n",
        "# create a noise of variance 25\n",
        "noise = np.random.randn(*gray[1].shape)*10\n",
        "# Add this noise to images\n",
        "noisy = i+noise \n",
        "# Convert back to uint8\n",
        "noisy = np.uint8(np.clip(i,0,255))\n",
        "# Denoise 3rd frame considering all the 5 frames\n",
        "#dst = cv.fastNlMeansDenoisingMulti(noisy, 2, 5, 1, 4, 7, 5)\n",
        "dst=cv.fastNlMeansDenoising(noisy,dst,3,7,21)\n",
        "# plt.subplot(131),plt.imshow(gray,'gray')\n",
        "# plt.subplot(132),plt.imshow(noisy,'gray')\n",
        "# plt.subplot(133),plt.imshow(dst,'gray')\n",
        "# plt.show()"
      ],
      "metadata": {
        "id": "SiWlziScWEQf"
      },
      "execution_count": null,
      "outputs": []
    },
    {
      "cell_type": "code",
      "source": [
        "plt.imshow(gray,'gray')"
      ],
      "metadata": {
        "id": "NmlR_Ko7WIkZ"
      },
      "execution_count": null,
      "outputs": []
    },
    {
      "cell_type": "code",
      "source": [
        "import cv2\n",
        "#image = cv2.imread(\"test.jpg\")\n",
        "image=dst\n",
        "crop_img = image[15:50+1030, 50:50+1566]\n",
        "plt.imshow(crop_img,cmap=\"gray\")"
      ],
      "metadata": {
        "id": "3ak5hlGbWPMW"
      },
      "execution_count": null,
      "outputs": []
    },
    {
      "cell_type": "code",
      "source": [
        "img=crop_img\n",
        "for i in range (0,crop_img.shape[0]-10):\n",
        "  for j in range (0,crop_img.shape[1]-10):\n",
        "    if img[i][j]==0:\n",
        "      #check\n",
        "      count=0\n",
        "      for k in range (i-5,i+5):\n",
        "        for l in range (j-5,j+5):\n",
        "          if img[k][l]==0:\n",
        "            count=count+1\n",
        "      if(count<5):\n",
        "        img[i][j]=255\n",
        "\n",
        "plt.imshow(img,cmap=\"gray\")"
      ],
      "metadata": {
        "id": "NZHMDLS2WTxG"
      },
      "execution_count": null,
      "outputs": []
    },
    {
      "cell_type": "code",
      "source": [
        "import cv2"
      ],
      "metadata": {
        "id": "E3FCi3eoWaY2"
      },
      "execution_count": null,
      "outputs": []
    },
    {
      "cell_type": "code",
      "source": [
        "import matplotlib.pyplot as plt\n",
        "i = cv2.imread(\"cleaned.jpg\",0)\n",
        "plt.imshow(i,cmap=\"gray\")"
      ],
      "metadata": {
        "id": "6f0Du27TWfHq"
      },
      "execution_count": null,
      "outputs": []
    },
    {
      "cell_type": "code",
      "source": [
        "crop_img = i[5:125, 0:725]\n",
        "plt.imshow(crop_img,cmap=\"gray\""
      ],
      "metadata": {
        "id": "nqHfIfgRWmMA"
      },
      "execution_count": null,
      "outputs": []
    },
    {
      "cell_type": "code",
      "source": [
        "cv2.imwrite('crop.jpg',crop_img)"
      ],
      "metadata": {
        "id": "aPMtgFb5WpkT"
      },
      "execution_count": null,
      "outputs": []
    },
    {
      "cell_type": "code",
      "source": [
        "pixel_from_top=[]\n",
        "for i in range (0,645):\n",
        "  id=0\n",
        "  \n",
        "  for j in range (0,120):\n",
        "      if img[j][i]==0:\n",
        "        pixel_from_top.append(j)\n",
        "        id=1\n",
        "        # print(\"f\\n\")\n",
        "        break\n",
        "        \n",
        "  \n",
        "  if id==0:\n",
        "    # print(\"nf\\n\")\n",
        "    pixel_from_top.append(pixel_from_top[i-1])"
      ],
      "metadata": {
        "id": "RS2PFtOeWvdt"
      },
      "execution_count": null,
      "outputs": []
    },
    {
      "cell_type": "code",
      "source": [
        "len(pixel_from_top)\n",
        "645\n",
        "plt.plot(pixel_from_top)"
      ],
      "metadata": {
        "id": "gjrxHATsWzbI"
      },
      "execution_count": null,
      "outputs": []
    },
    {
      "cell_type": "code",
      "source": [
        "pixel_from_bottom=[]\n",
        "for i in range (0,645):\n",
        "  pixel_from_bottom.append(120-pixel_from_top[i])\n",
        "plt.xticks(range(0,700,50))\n",
        "for i in range (0,645,140):\n",
        "  plt.axvline(x=i)\n",
        "plt.plot(pixel_from_bottom)"
      ],
      "metadata": {
        "id": "KSuxFb28W35q"
      },
      "execution_count": null,
      "outputs": []
    }
  ]
}